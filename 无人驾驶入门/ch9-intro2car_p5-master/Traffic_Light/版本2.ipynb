{
 "cells": [
  {
   "cell_type": "code",
   "execution_count": 1,
   "metadata": {},
   "outputs": [],
   "source": [
    "import cv2 # computer vision library\n",
    "import helpers # helper functions\n",
    "\n",
    "import random\n",
    "import numpy as np\n",
    "import matplotlib.pyplot as plt\n",
    "import matplotlib.image as mpimg # for loading in images\n",
    "\n",
    "%matplotlib inline\n",
    "\n",
    "\n",
    "# Image data directories\n",
    "IMAGE_DIR_TRAINING = \"traffic_light_images/training/\"\n",
    "IMAGE_DIR_TEST = \"traffic_light_images/test/\"\n",
    "\n",
    "\n",
    "# Using the load_dataset function in helpers.py\n",
    "# Load training data\n",
    "IMAGE_LIST = helpers.load_dataset(IMAGE_DIR_TRAINING)\n",
    "\n",
    "\n",
    "# This function should take in an RGB image and return a new, standardized version\n",
    "def standardize_input(image):\n",
    "    \n",
    "    standard_im = np.copy(image)\n",
    "    standard_im = cv2.resize(standard_im, (32,32))\n",
    "    \n",
    "    return standard_im\n",
    "\n",
    "\n",
    "def one_hot_encode(label):\n",
    "    \n",
    "    one_hot_encoded = [] \n",
    "    if label == \"red\":\n",
    "        one_hot_encoded = [1,0,0]\n",
    "    elif label == \"yellow\":\n",
    "        one_hot_encoded = [0,1,0]\n",
    "    elif label == \"green\":\n",
    "        one_hot_encoded = [0,0,1]\n",
    "    return one_hot_encoded\n",
    "\n",
    "\n",
    "def standardize(image_list):\n",
    "    \n",
    "    # Empty image data array\n",
    "    standard_list = []\n",
    "\n",
    "    # Iterate through all the image-label pairs\n",
    "    for item in image_list:\n",
    "        image = item[0]\n",
    "        label = item[1]\n",
    "\n",
    "        # Standardize the image\n",
    "        standardized_im = standardize_input(image)\n",
    "\n",
    "        # One-hot encode the label\n",
    "        one_hot_label = one_hot_encode(label)    \n",
    "\n",
    "        # Append the image, and it's one hot encoded label to the full, processed list of image data \n",
    "        standard_list.append((standardized_im, one_hot_label))\n",
    "        \n",
    "    return standard_list\n",
    "\n",
    "# Standardize all training images\n",
    "STANDARDIZED_LIST = standardize(IMAGE_LIST)"
   ]
  },
  {
   "cell_type": "markdown",
   "metadata": {},
   "source": [
    "# 版本2\n",
    "## 效果\n",
    "- Accuracy: 0.9461279461279462\n",
    "- Number of misclassified images = 16 out of 297\n",
    "- 有红灯被判断为绿灯\n",
    "```\n",
    "for i in range(len(MISCLASSIFIED)):\n",
    "    print(MISCLASSIFIED[i][1], MISCLASSIFIED[i][2])\n",
    "# predicted_label, true_label\n",
    "[1, 0, 0] [0, 0, 1]\n",
    "[1, 0, 0] [0, 0, 1]\n",
    "[1, 0, 0] [0, 0, 1]\n",
    "[1, 0, 0] [0, 0, 1]\n",
    "[0, 0, 1] [1, 0, 0]\n",
    "[0, 0, 1] [1, 0, 0]\n",
    "[0, 0, 1] [1, 0, 0]\n",
    "[1, 0, 0] [0, 0, 1]\n",
    "[1, 0, 0] [0, 0, 1]\n",
    "[1, 0, 0] [0, 0, 1]\n",
    "[1, 0, 0] [0, 0, 1]\n",
    "[1, 0, 0] [0, 1, 0]\n",
    "[0, 1, 0] [1, 0, 0]\n",
    "[1, 0, 0] [0, 0, 1]\n",
    "[0, 1, 0] [1, 0, 0]\n",
    "[0, 1, 0] [1, 0, 0]\n",
    "```\n",
    "\n",
    "## 方法:\n",
    "- 采用v平均值创建v_mask,采用s平均值创建s_mask\n",
    "- 合并成一个mask\n",
    "- cv2.findContours找到mask(反二值化)中的最大的图形轮廓所在的位置\n",
    "- 通过位置判断红路灯(绿灯再加上rgb颜色判断, g>r)\n",
    " \n",
    "## 问题:\n",
    "- 有些图片中的红绿灯整体位置偏移(偏上或者偏下), 导致找到的位置偏上或偏下\n",
    "- 部分mask包括了边缘的大块背景图像,\n",
    "\n",
    "## 解决方案:\n",
    "- 裁剪: \n",
    "  - cv2.findContours找v或者s的mask中的主体,裁剪出红路灯主体所在的图片\n",
    "  - 得到灯轮廓在裁剪后图片的相对位置\n",
    "- 改变mask合并方式\n",
    "  - v_mask反转cv2.bitwise_not之后与s_mask进行与操作cv2.bitwise_and >>> create_hsv_mask3"
   ]
  },
  {
   "cell_type": "code",
   "execution_count": 126,
   "metadata": {},
   "outputs": [],
   "source": [
    "def create_hsv_mask1(rgb_image):\n",
    "    hsv_image = cv2.cvtColor(rgb_image, cv2.COLOR_RGB2HSV)\n",
    "    \n",
    "    sum_brightness = np.sum(hsv_image[:,:,2])\n",
    "    area = 32*32\n",
    "    avg_v = int(sum_brightness/area)\n",
    "    # 创建蒙版, 明度\n",
    "    v_lower = np.array([0,0,0])\n",
    "    v_upper = np.array([179,255,avg_v])\n",
    "    v_mask = cv2.inRange(hsv_image, v_lower, v_upper)\n",
    "    # 膨胀操作\n",
    "#     kernel = np.ones((2, 2), np.uint8)\n",
    "#     v_mask = cv2.dilate(v_mask, kernel, iterations=1)\n",
    "    \n",
    "    sum_s = np.sum(hsv_image[:,:,1])\n",
    "    area = 32*32\n",
    "    avg_s = int(sum_s/area)\n",
    "    # 创建蒙版, 饱和度\n",
    "    s_lower = np.array([0,0,0])\n",
    "    s_upper = np.array([179,avg_s,255])\n",
    "    s_mask = cv2.inRange(hsv_image, s_lower, s_upper)\n",
    "    # 膨胀操作\n",
    "#     kernel = np.ones((2, 2), np.uint8)\n",
    "#     v_mask = cv2.dilate(v_mask, kernel, iterations=1)\n",
    "    \n",
    "    # 创建蒙版, h\n",
    "    red_lower = np.array([170,43,46])  # 可以选中红, 适当缩小范围\n",
    "    red_upper = np.array([177,255,255])  # 可以选中红, 适当缩小范围\n",
    "    yellow_lower = np.array([10,43,46])  # 适当放大黄色范围\n",
    "    yellow_upper = np.array([35,255,255])\n",
    "    green_lower = np.array([35,43,46])  \n",
    "    green_upper = np.array([100,255,255])  # 绿色有些图片中偏向青色和蓝色,放宽h值范围\n",
    "    mask_red = cv2.inRange(hsv_image, red_lower, red_upper)\n",
    "\n",
    "    mask_yg = cv2.inRange(hsv_image, yellow_lower, green_upper)  # 黄色和绿色的蒙版可以合并\n",
    "    h_mask = cv2.bitwise_or(mask_red, mask_yg)\n",
    "    # 膨胀操作\n",
    "#     kernel = np.ones((2, 2), np.uint8)\n",
    "#     h_mask = cv2.dilate(h_mask, kernel, iterations=1)\n",
    "    \n",
    "    \n",
    "    \n",
    "    # 合并蒙版\n",
    "    mask = cv2.bitwise_or(v_mask, s_mask)\n",
    "    \n",
    "    # 遮盖图像 rgb\n",
    "    masked_image = np.copy(rgb_image)\n",
    "    masked_image[mask != 0] = [0, 0, 0]\n",
    "    \n",
    "\n",
    "#     f, (ax0, ax1, ax2, ax3, ax4) = plt.subplots(1, 5, figsize=(20,8))\n",
    "#     ax0.imshow(test_im)\n",
    "#     ax0.set_title(\"image\")\n",
    "\n",
    "#     ax1.imshow(s_mask, cmap='gray')\n",
    "#     ax1.set_title(\"s_mask\")\n",
    "\n",
    "#     ax2.imshow(v_mask, cmap='gray')\n",
    "#     ax2.set_title(\"v_mask\")\n",
    "\n",
    "#     ax3.imshow(h_mask, cmap='gray')\n",
    "#     ax3.set_title(\"h_mask\")\n",
    "\n",
    "#     ax4.imshow(masked_image)\n",
    "#     ax4.set_title(\"masked_image\")\n",
    "\n",
    "#     plt.show()\n",
    "    \n",
    "    return mask, masked_image"
   ]
  },
  {
   "cell_type": "code",
   "execution_count": 127,
   "metadata": {},
   "outputs": [
    {
     "name": "stdout",
     "output_type": "stream",
     "text": [
      "[0, 0, 1]\n"
     ]
    }
   ],
   "source": [
    "image_num = 1186\n",
    "test_im = STANDARDIZED_LIST[image_num][0]\n",
    "test_label = STANDARDIZED_LIST[image_num][1]\n",
    "create_hsv_mask1(im)\n",
    "print(test_label)"
   ]
  },
  {
   "cell_type": "code",
   "execution_count": 128,
   "metadata": {},
   "outputs": [],
   "source": [
    "def create_feature1(rgb_image):\n",
    "    \"\"\"\n",
    "    寻找轮廓:https://blog.csdn.net/chenghaoy/article/details/86509950\n",
    "    \"\"\"\n",
    "    \n",
    "    hsv_image = cv2.cvtColor(rgb_image, cv2.COLOR_RGB2HSV)\n",
    "    mask, masked_image = create_hsv_mask1(rgb_image)\n",
    "    \n",
    "    # mask反二值化\n",
    "    ret,thresh2 = cv2.threshold(mask,127,255,cv2.THRESH_BINARY_INV)\n",
    "    # 获取图像轮廓坐标，其中contours为坐标值，此处只检测外形轮廓\n",
    "    image, contours, hierarchy = cv2.findContours(thresh2, cv2.RETR_EXTERNAL, cv2.CHAIN_APPROX_SIMPLE)\n",
    "    # 找最大块位置\n",
    "    mx = 0\n",
    "    my = 0\n",
    "    mw = 0\n",
    "    mh = 0\n",
    "    if len(contours) > 0:\n",
    "        #cv2.boundingRect()返回轮廓矩阵的坐标值，四个值为x, y, w, h， 其中x, y为左上角坐标，w,h为矩阵的宽和高\n",
    "        boxes = [cv2.boundingRect(c) for c in contours]\n",
    "        masked_image2 = masked_image.copy()\n",
    "        for box in boxes:\n",
    "            x, y, w, h = box\n",
    "#             print(\"轮廓矩阵坐标值\",x,y,w,h)\n",
    "\n",
    "            #绘制矩形框对轮廓进行定位\n",
    "            masked_image2 = cv2.rectangle(masked_image2, (x, y), (x+w, y+h), (153, 153, 0), 1)\n",
    "            \n",
    "            if w * h > mw * mh:\n",
    "                mw = w\n",
    "                mh = h\n",
    "                mx = x\n",
    "                my = y\n",
    "    # 最大块中心\n",
    "    center_x = mx + mw/2\n",
    "    center_y = my + mh/2\n",
    "    \n",
    "#     plt.imshow(masked_image2)\n",
    "#     plt.show()\n",
    "    \n",
    "    \n",
    "    # 未被遮盖的像素总数\n",
    "    sum_pix = 32*32 - np.sum(mask)/255\n",
    "    if sum_pix == 0:\n",
    "        return [0,0,0,0]\n",
    "    \n",
    "    # 未被遮盖的像素的平均h,s,v\n",
    "    sum_h = np.sum(masked_image[:,:,0])\n",
    "    avg_h = sum_h/sum_pix\n",
    "    sum_s = np.sum(masked_image[:,:,1])\n",
    "    avg_s = sum_s/sum_pix\n",
    "    sum_v = np.sum(masked_image[:,:,2])\n",
    "    avg_v = sum_v/sum_pix\n",
    "#     print(\"hsv_feature:\", sum_h, sum_s, sum_v, sum_pix)\n",
    "    \n",
    "    \n",
    "    # RGB 图像\n",
    "    r = rgb_image[:,:,0]\n",
    "    g = rgb_image[:,:,1]\n",
    "    b = rgb_image[:,:,2]\n",
    "    avg_r = r.sum()/(32*32)\n",
    "    avg_g = g.sum()/(32*32)\n",
    "    avg_b = b.sum()/(32*32)\n",
    "#     r = masked_image[:,:,0]\n",
    "#     g = masked_image[:,:,1]\n",
    "#     b = masked_image[:,:,2]\n",
    "#     avg_r = r.sum()/sum_pix\n",
    "#     avg_g = g.sum()/sum_pix\n",
    "#     avg_b = b.sum()/sum_pix\n",
    "    \n",
    "#     f, (ax0, ax1, ax2) = plt.subplots(1, 3, figsize=(20,8))\n",
    "#     ax0.imshow(r, cmap='gray')\n",
    "#     ax0.set_title(\"r:{}\".format(avg_r))\n",
    "#     ax1.imshow(g, cmap='gray')\n",
    "#     ax1.set_title(\"g:{}\".format(avg_g))\n",
    "#     ax2.imshow(b, cmap='gray')\n",
    "#     ax2.set_title(\"b:{}\".format(avg_b))\n",
    "#     plt.show()\n",
    "    \n",
    "    \n",
    "    feature = [center_y, avg_r, avg_g, avg_b, avg_h, avg_s, avg_v]\n",
    "    return feature"
   ]
  },
  {
   "cell_type": "code",
   "execution_count": 58,
   "metadata": {},
   "outputs": [
    {
     "name": "stdout",
     "output_type": "stream",
     "text": [
      "[7.5, 144.595703125, 115.017578125, 117.3125, 184.46484375, 115.41796875, 123.9140625]\n",
      "[1, 0, 0] [1, 0, 0]\n"
     ]
    }
   ],
   "source": [
    "image_num = 1\n",
    "\n",
    "test_im = STANDARDIZED_LIST[image_num][0]\n",
    "test_label = STANDARDIZED_LIST[image_num][1]\n",
    "print(create_feature1(test_im))\n",
    "print(test_label,estimate_label(test_im))"
   ]
  },
  {
   "cell_type": "markdown",
   "metadata": {},
   "source": [
    "（实现）：构建一个完整的分类器"
   ]
  },
  {
   "cell_type": "code",
   "execution_count": 129,
   "metadata": {},
   "outputs": [],
   "source": [
    "# This function should take in RGB image input\n",
    "# Analyze that image using your feature creation code and output a one-hot encoded label\n",
    "def estimate_label(rgb_image):\n",
    "    \n",
    "    ## TODO: Extract feature(s) from the RGB image and use those features to\n",
    "    ## classify the image and output a one-hot encoded label\n",
    "    predicted_label = [1,0,0]\n",
    "    \n",
    "    feature = create_feature1(rgb_image)\n",
    "#     print(feature)\n",
    "\n",
    "    y = feature[0]\n",
    "    r = feature[1]\n",
    "    g = feature[2]\n",
    "    if y <= 14:\n",
    "        predicted_label = [1,0,0]\n",
    "    elif y < 18 and y > 14:\n",
    "        predicted_label = [0,1,0]\n",
    "    elif y > 16 or g > r:\n",
    "        predicted_label = [0,0,1]\n",
    "    \n",
    "    return predicted_label   \n",
    "    "
   ]
  },
  {
   "cell_type": "code",
   "execution_count": 130,
   "metadata": {},
   "outputs": [],
   "source": [
    "# Using the load_dataset function in helpers.py\n",
    "# Load test data\n",
    "TEST_IMAGE_LIST = helpers.load_dataset(IMAGE_DIR_TEST)\n",
    "\n",
    "# Standardize the test data\n",
    "STANDARDIZED_TEST_LIST = standardize(TEST_IMAGE_LIST)\n",
    "\n",
    "# Shuffle the standardized test data\n",
    "random.shuffle(STANDARDIZED_TEST_LIST)"
   ]
  },
  {
   "cell_type": "code",
   "execution_count": 131,
   "metadata": {},
   "outputs": [
    {
     "name": "stdout",
     "output_type": "stream",
     "text": [
      "Accuracy: 0.9461279461279462\n",
      "Number of misclassified images = 16 out of 297\n"
     ]
    }
   ],
   "source": [
    "# Constructs a list of misclassified images given a list of test images and their labels\n",
    "# This will throw an AssertionError if labels are not standardized (one-hot encoded)\n",
    "\n",
    "def get_misclassified_images(test_images):\n",
    "    # Track misclassified images by placing them into a list\n",
    "    misclassified_images_labels = []\n",
    "\n",
    "    # Iterate through all the test images\n",
    "    # Classify each image and compare to the true label\n",
    "    for image in test_images:\n",
    "\n",
    "        # Get true data\n",
    "        im = image[0]\n",
    "        true_label = image[1]\n",
    "        assert(len(true_label) == 3), \"The true_label is not the expected length (3).\"\n",
    "\n",
    "        # Get predicted label from your classifier\n",
    "        predicted_label = estimate_label(im)\n",
    "        assert(len(predicted_label) == 3), \"The predicted_label is not the expected length (3).\"\n",
    "\n",
    "        # Compare true and predicted labels \n",
    "        if(predicted_label != true_label):\n",
    "            # If these labels are not equal, the image has been misclassified\n",
    "            misclassified_images_labels.append((im, predicted_label, true_label))\n",
    "            \n",
    "    # Return the list of misclassified [image, predicted_label, true_label] values\n",
    "    return misclassified_images_labels\n",
    "\n",
    "\n",
    "# Find all misclassified images in a given test set\n",
    "MISCLASSIFIED = get_misclassified_images(STANDARDIZED_TEST_LIST)\n",
    "\n",
    "# Accuracy calculations\n",
    "total = len(STANDARDIZED_TEST_LIST)\n",
    "num_correct = total - len(MISCLASSIFIED)\n",
    "accuracy = num_correct/total\n",
    "\n",
    "print('Accuracy: ' + str(accuracy))\n",
    "print(\"Number of misclassified images = \" + str(len(MISCLASSIFIED)) +' out of '+ str(total))\n"
   ]
  },
  {
   "cell_type": "code",
   "execution_count": 132,
   "metadata": {},
   "outputs": [
    {
     "name": "stdout",
     "output_type": "stream",
     "text": [
      "[1, 0, 0] [0, 0, 1]\n",
      "[0, 0, 1] [1, 0, 0]\n",
      "[1, 0, 0] [0, 0, 1]\n",
      "[0, 0, 1] [1, 0, 0]\n",
      "[0, 1, 0] [1, 0, 0]\n",
      "[0, 0, 1] [1, 0, 0]\n",
      "[1, 0, 0] [0, 0, 1]\n",
      "[1, 0, 0] [0, 0, 1]\n",
      "[1, 0, 0] [0, 1, 0]\n",
      "[1, 0, 0] [0, 0, 1]\n",
      "[1, 0, 0] [0, 0, 1]\n",
      "[0, 1, 0] [1, 0, 0]\n",
      "[1, 0, 0] [0, 0, 1]\n",
      "[1, 0, 0] [0, 0, 1]\n",
      "[1, 0, 0] [0, 0, 1]\n",
      "[0, 1, 0] [1, 0, 0]\n"
     ]
    }
   ],
   "source": [
    "for i in range(len(MISCLASSIFIED)):\n",
    "    print(MISCLASSIFIED[i][1], MISCLASSIFIED[i][2])"
   ]
  },
  {
   "cell_type": "code",
   "execution_count": 187,
   "metadata": {
    "scrolled": true
   },
   "outputs": [
    {
     "name": "stdout",
     "output_type": "stream",
     "text": [
      "[0, 0, 1] [1, 0, 0]\n"
     ]
    },
    {
     "data": {
      "text/plain": [
       "<matplotlib.image.AxesImage at 0x7f5d1c862b00>"
      ]
     },
     "execution_count": 187,
     "metadata": {},
     "output_type": "execute_result"
    },
    {
     "data": {
      "image/png": "[encoded data removed]",
      "text/plain": [
       "<Figure size 432x288 with 1 Axes>"
      ]
     },
     "metadata": {
      "needs_background": "light"
     },
     "output_type": "display_data"
    }
   ],
   "source": [
    "# Visualize misclassified example(s)\n",
    "## TODO: Display an image in the `MISCLASSIFIED` list \n",
    "## TODO: Print out its predicted label - to see what the image *was* incorrectly classified as\n",
    "\n",
    "image_num = 1\n",
    "\n",
    "im = MISCLASSIFIED[image_num][0]\n",
    "predicted_label = MISCLASSIFIED[image_num][1]\n",
    "true_label = MISCLASSIFIED[image_num][2]\n",
    "print(predicted_label, true_label)\n",
    "plt.imshow(im)\n"
   ]
  },
  {
   "cell_type": "code",
   "execution_count": 134,
   "metadata": {},
   "outputs": [
    {
     "data": {
      "text/markdown": [
       "**<span style=\"color: red;\">TEST FAILED</span>**"
      ],
      "text/plain": [
       "<IPython.core.display.Markdown object>"
      ]
     },
     "metadata": {},
     "output_type": "display_data"
    },
    {
     "name": "stdout",
     "output_type": "stream",
     "text": [
      "Warning: A red light is classified as green.\n",
      "\n",
      "[0, 0, 1] == [0, 0, 1]\n"
     ]
    }
   ],
   "source": [
    "# Importing the tests\n",
    "import test_functions\n",
    "tests = test_functions.Tests()\n",
    "\n",
    "if(len(MISCLASSIFIED) > 0):\n",
    "    # Test code for one_hot_encode function\n",
    "    tests.test_red_as_green(MISCLASSIFIED)\n",
    "else:\n",
    "    print(\"MISCLASSIFIED may not have been populated with images.\")\n"
   ]
  },
  {
   "cell_type": "code",
   "execution_count": 180,
   "metadata": {},
   "outputs": [],
   "source": [
    "def create_hsv_mask2(rgb_image):\n",
    "    hsv_image = cv2.cvtColor(rgb_image, cv2.COLOR_RGB2HSV)\n",
    "    \n",
    "    sum_brightness = np.sum(hsv_image[:,:,2])\n",
    "    area = 32*32\n",
    "    avg_v = int(sum_brightness/area)\n",
    "    # 创建蒙版, 明度\n",
    "    v_lower = np.array([0,0,0])\n",
    "    v_upper = np.array([179,255,avg_v])\n",
    "    v_mask = cv2.inRange(hsv_image, v_lower, v_upper)\n",
    "#     膨胀操作\n",
    "    kernel = np.ones((2, 2), np.uint8)\n",
    "    v_mask = cv2.dilate(v_mask, kernel, iterations=1)\n",
    "    \n",
    "    sum_s = np.sum(hsv_image[:,:,1])\n",
    "    area = 32*32\n",
    "    avg_s = int(sum_s/area)\n",
    "    # 创建蒙版, 饱和度\n",
    "    s_lower = np.array([0,0,0])\n",
    "    s_upper = np.array([179,avg_s,255])\n",
    "    s_mask = cv2.inRange(hsv_image, s_lower, s_upper)\n",
    "    # 膨胀操作\n",
    "#     kernel = np.ones((2, 2), np.uint8)\n",
    "#     v_mask = cv2.dilate(v_mask, kernel, iterations=1)\n",
    "    \n",
    "    # 创建蒙版, h\n",
    "    red_lower = np.array([170,43,46])  # 可以选中红, 适当缩小范围\n",
    "    red_upper = np.array([177,255,255])  # 可以选中红, 适当缩小范围\n",
    "    yellow_lower = np.array([10,43,46])  # 适当放大黄色范围\n",
    "    yellow_upper = np.array([35,255,255])\n",
    "    green_lower = np.array([35,43,46])  \n",
    "    green_upper = np.array([100,255,255])  # 绿色有些图片中偏向青色和蓝色,放宽h值范围\n",
    "    mask_red = cv2.inRange(hsv_image, red_lower, red_upper)\n",
    "\n",
    "    mask_yg = cv2.inRange(hsv_image, yellow_lower, green_upper)  # 黄色和绿色的蒙版可以合并\n",
    "    h_mask = cv2.bitwise_or(mask_red, mask_yg)\n",
    "    # 膨胀操作\n",
    "    kernel = np.ones((2, 2), np.uint8)\n",
    "    h_mask = cv2.dilate(h_mask, kernel, iterations=1)\n",
    "    \n",
    "    \n",
    "    \n",
    "    # 合并蒙版\n",
    "    mask = cv2.bitwise_or(v_mask, s_mask)\n",
    "    \n",
    "    # 遮盖图像 rgb\n",
    "    masked_image = np.copy(rgb_image)\n",
    "    masked_image[mask != 0] = [0, 0, 0]\n",
    "    \n",
    "\n",
    "    f, (ax0, ax1, ax2, ax3, ax4) = plt.subplots(1, 5, figsize=(20,8))\n",
    "    ax0.imshow(rgb_image)\n",
    "    ax0.set_title(\"image\")\n",
    "\n",
    "    ax1.imshow(s_mask, cmap='gray')\n",
    "    ax1.set_title(\"s_mask\")\n",
    "\n",
    "    ax2.imshow(v_mask, cmap='gray')\n",
    "    ax2.set_title(\"v_mask\")\n",
    "\n",
    "    ax3.imshow(h_mask, cmap='gray')\n",
    "    ax3.set_title(\"h_mask\")\n",
    "\n",
    "    ax4.imshow(masked_image)\n",
    "    ax4.set_title(\"masked_image\")\n",
    "\n",
    "    plt.show()\n",
    "    \n",
    "#     return mask, masked_image"
   ]
  },
  {
   "cell_type": "code",
   "execution_count": 188,
   "metadata": {},
   "outputs": [
    {
     "data": {
      "image/png": "[encoded data removed]",
      "text/plain": [
       "<Figure size 1440x576 with 5 Axes>"
      ]
     },
     "metadata": {
      "needs_background": "light"
     },
     "output_type": "display_data"
    }
   ],
   "source": [
    "create_hsv_mask2(im)"
   ]
  },
  {
   "cell_type": "code",
   "execution_count": 190,
   "metadata": {},
   "outputs": [],
   "source": [
    "def create_hsv_mask3(rgb_image):\n",
    "    hsv_image = cv2.cvtColor(rgb_image, cv2.COLOR_RGB2HSV)\n",
    "    \n",
    "    sum_brightness = np.sum(hsv_image[:,:,2])\n",
    "    area = 32*32\n",
    "    avg_v = int(sum_brightness/area)\n",
    "    # 创建蒙版, 明度\n",
    "    v_lower = np.array([0,0,0])\n",
    "    v_upper = np.array([179,255,avg_v])\n",
    "    v_mask = cv2.inRange(hsv_image, v_lower, v_upper)\n",
    "#     膨胀操作\n",
    "    kernel = np.ones((2, 2), np.uint8)\n",
    "    v_mask = cv2.dilate(v_mask, kernel, iterations=1)\n",
    "    \n",
    "    \n",
    "    v_mask_env = cv2.bitwise_not(v_mask)\n",
    "    \n",
    "    \n",
    "    sum_s = np.sum(hsv_image[:,:,1])\n",
    "    area = 32*32\n",
    "    avg_s = int(sum_s/area)\n",
    "    # 创建蒙版, 饱和度\n",
    "    s_lower = np.array([0,0,0])\n",
    "    s_upper = np.array([179,avg_s,255])\n",
    "    s_mask = cv2.inRange(hsv_image, s_lower, s_upper)\n",
    "    # 膨胀操作\n",
    "#     kernel = np.ones((2, 2), np.uint8)\n",
    "#     v_mask = cv2.dilate(v_mask, kernel, iterations=1)\n",
    "    \n",
    "    # 创建蒙版, h\n",
    "    red_lower = np.array([170,20,46])  # 可以选中红, 适当缩小范围\n",
    "    red_upper = np.array([177,255,255])  # 可以选中红, 适当缩小范围\n",
    "    yellow_lower = np.array([5,20,46])  # 适当放大黄色范围\n",
    "    # yellow_upper = np.array([35,255,255])\n",
    "    # green_lower = np.array([35,43,46])  \n",
    "    green_upper = np.array([100,255,255])  # 绿色有些图片中偏向青色和蓝色,放宽h值范围\n",
    "    mask_red = cv2.inRange(hsv_image, red_lower, red_upper)\n",
    "    mask_yg = cv2.inRange(hsv_image, yellow_lower, green_upper)  # 黄色和绿色的蒙版可以合并\n",
    "    h_mask = cv2.bitwise_or(mask_red, mask_yg)\n",
    "    # 膨胀操作\n",
    "    kernel = np.ones((2, 2), np.uint8)\n",
    "    h_mask = cv2.dilate(h_mask, kernel, iterations=1)\n",
    "    \n",
    "    \n",
    "    \n",
    "    # 合并蒙版\n",
    "    mask = cv2.bitwise_and(v_mask_env, s_mask)\n",
    "    # 膨胀操作\n",
    "    kernel = np.ones((2, 2), np.uint8)\n",
    "    v_mask = cv2.dilate(v_mask, kernel, iterations=1)\n",
    "    \n",
    "    # 遮盖图像 rgb\n",
    "    masked_image = np.copy(rgb_image)\n",
    "    masked_image[mask != 0] = [0, 0, 0]\n",
    "    \n",
    "\n",
    "    f, (ax0, ax1, ax2, ax3, ax4) = plt.subplots(1, 5, figsize=(20,8))\n",
    "    ax0.imshow(rgb_image)\n",
    "    ax0.set_title(\"image\")\n",
    "\n",
    "    ax1.imshow(s_mask, cmap='gray')\n",
    "    ax1.set_title(\"s_mask\")\n",
    "\n",
    "    ax2.imshow(v_mask_env, cmap='gray')\n",
    "    ax2.set_title(\"v_mask_env\")\n",
    "\n",
    "    ax3.imshow(h_mask, cmap='gray')\n",
    "    ax3.set_title(\"h_mask\")\n",
    "\n",
    "    ax4.imshow(masked_image)\n",
    "    ax4.set_title(\"masked_image\")\n",
    "\n",
    "    plt.show()\n",
    "    \n",
    "#     return mask, masked_image"
   ]
  },
  {
   "cell_type": "code",
   "execution_count": 191,
   "metadata": {},
   "outputs": [
    {
     "data": {
      "image/png": "[encoded data removed]",
      "text/plain": [
       "<Figure size 1440x576 with 5 Axes>"
      ]
     },
     "metadata": {
      "needs_background": "light"
     },
     "output_type": "display_data"
    }
   ],
   "source": [
    "create_hsv_mask3(im)"
   ]
  },
  {
   "cell_type": "code",
   "execution_count": null,
   "metadata": {},
   "outputs": [],
   "source": []
  }
 ],
 "metadata": {
  "kernelspec": {
   "display_name": "Python [conda env:.conda-py3] *",
   "language": "python",
   "name": "conda-env-.conda-py3-py"
  },
  "language_info": {
   "codemirror_mode": {
    "name": "ipython",
    "version": 3
   },
   "file_extension": ".py",
   "mimetype": "text/x-python",
   "name": "python",
   "nbconvert_exporter": "python",
   "pygments_lexer": "ipython3",
   "version": "3.7.3"
  }
 },
 "nbformat": 4,
 "nbformat_minor": 2
}
