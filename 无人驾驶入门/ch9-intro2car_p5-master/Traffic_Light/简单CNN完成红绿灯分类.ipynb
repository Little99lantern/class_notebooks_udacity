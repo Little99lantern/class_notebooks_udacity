{
 "cells": [
  {
   "cell_type": "markdown",
   "metadata": {},
   "source": [
    "# 简单CNN完成红绿灯分类\n",
    "- 参考 基于 Keras 的猫狗分类识别\n",
    "- tensorflow-gpu 1.13.1\n",
    "- keras"
   ]
  },
  {
   "cell_type": "code",
   "execution_count": 1,
   "metadata": {},
   "outputs": [
    {
     "name": "stderr",
     "output_type": "stream",
     "text": [
      "Using TensorFlow backend.\n"
     ]
    }
   ],
   "source": [
    "from keras.models import Sequential\n",
    "from keras.layers import Conv2D,MaxPool2D,Activation,Dropout,Flatten,Dense\n",
    "from keras.optimizers import Adam\n",
    "from keras.preprocessing.image import ImageDataGenerator,img_to_array,load_img"
   ]
  },
  {
   "cell_type": "code",
   "execution_count": 2,
   "metadata": {},
   "outputs": [
    {
     "name": "stdout",
     "output_type": "stream",
     "text": [
      "WARNING:tensorflow:From /home/steven/anaconda3/envs/tf13/lib/python3.7/site-packages/tensorflow/python/framework/op_def_library.py:263: colocate_with (from tensorflow.python.framework.ops) is deprecated and will be removed in a future version.\n",
      "Instructions for updating:\n",
      "Colocations handled automatically by placer.\n",
      "WARNING:tensorflow:From /home/steven/anaconda3/envs/tf13/lib/python3.7/site-packages/keras/backend/tensorflow_backend.py:3445: calling dropout (from tensorflow.python.ops.nn_ops) with keep_prob is deprecated and will be removed in a future version.\n",
      "Instructions for updating:\n",
      "Please use `rate` instead of `keep_prob`. Rate should be set to `rate = 1 - keep_prob`.\n"
     ]
    }
   ],
   "source": [
    "# 定义模型\n",
    "model = Sequential()\n",
    "model.add(Conv2D(input_shape=(32,32,3),filters=32,kernel_size=3,padding='same',activation='relu'))\n",
    "model.add(Conv2D(filters=32,kernel_size=3,padding='same',activation='relu'))\n",
    "model.add(MaxPool2D(pool_size=2, strides=2))\n",
    "\n",
    "model.add(Conv2D(filters=64,kernel_size=3,padding='same',activation='relu'))\n",
    "model.add(Conv2D(filters=64,kernel_size=3,padding='same',activation='relu'))\n",
    "model.add(MaxPool2D(pool_size=2, strides=2))\n",
    "\n",
    "model.add(Conv2D(filters=128,kernel_size=3,padding='same',activation='relu'))\n",
    "model.add(Conv2D(filters=128,kernel_size=3,padding='same',activation='relu'))\n",
    "model.add(MaxPool2D(pool_size=2, strides=2))\n",
    "\n",
    "model.add(Flatten())\n",
    "model.add(Dense(64,activation='relu'))\n",
    "model.add(Dropout(0.5))\n",
    "model.add(Dense(3,activation='softmax'))\n",
    "\n",
    "# 定义优化器\n",
    "adam = Adam(lr=1e-4)\n",
    "\n",
    "# 定义优化器，代价函数，训练过程中计算准确率\n",
    "model.compile(optimizer=adam,loss='categorical_crossentropy',metrics=['accuracy'])"
   ]
  },
  {
   "cell_type": "code",
   "execution_count": 3,
   "metadata": {},
   "outputs": [],
   "source": [
    "train_datagen = ImageDataGenerator(\n",
    "    rotation_range = 40,     # 随机旋转度数\n",
    "    width_shift_range = 0.2, # 随机水平平移\n",
    "    height_shift_range = 0.2,# 随机竖直平移\n",
    "    rescale = 1/255,         # 数据归一化\n",
    "    shear_range = 20,       # 随机错切变换\n",
    "    zoom_range = 0.2,        # 随机放大\n",
    "    horizontal_flip = True,  # 水平翻转\n",
    "    fill_mode = 'nearest',   # 填充方式\n",
    ") \n",
    "test_datagen = ImageDataGenerator(\n",
    "    rescale = 1/255,         # 数据归一化\n",
    ") "
   ]
  },
  {
   "cell_type": "code",
   "execution_count": 4,
   "metadata": {},
   "outputs": [
    {
     "name": "stdout",
     "output_type": "stream",
     "text": [
      "Found 1187 images belonging to 3 classes.\n",
      "Found 297 images belonging to 3 classes.\n"
     ]
    }
   ],
   "source": [
    "batch_size = 16\n",
    "\n",
    "# 生成训练数据\n",
    "train_generator = train_datagen.flow_from_directory(\n",
    "    'traffic_light_images/training',\n",
    "    target_size=(32,32),\n",
    "    batch_size=batch_size,\n",
    "    )\n",
    "\n",
    "# 测试数据\n",
    "test_generator = test_datagen.flow_from_directory(\n",
    "    'traffic_light_images/test',\n",
    "    target_size=(32,32),\n",
    "    batch_size=batch_size,\n",
    "    )"
   ]
  },
  {
   "cell_type": "code",
   "execution_count": 5,
   "metadata": {},
   "outputs": [
    {
     "data": {
      "text/plain": [
       "{'green': 0, 'red': 1, 'yellow': 2}"
      ]
     },
     "execution_count": 5,
     "metadata": {},
     "output_type": "execute_result"
    }
   ],
   "source": [
    "train_generator.class_indices"
   ]
  },
  {
   "cell_type": "code",
   "execution_count": 29,
   "metadata": {},
   "outputs": [
    {
     "name": "stdout",
     "output_type": "stream",
     "text": [
      "Epoch 1/5\n",
      "75/75 [==============================] - 1s 16ms/step - loss: 0.0146 - acc: 0.9958 - val_loss: 0.0036 - val_acc: 0.9966\n",
      "Epoch 2/5\n",
      "75/75 [==============================] - 1s 15ms/step - loss: 0.0108 - acc: 0.9967 - val_loss: 0.0051 - val_acc: 1.0000\n",
      "Epoch 3/5\n",
      "75/75 [==============================] - 1s 15ms/step - loss: 0.0160 - acc: 0.9967 - val_loss: 0.0039 - val_acc: 0.9966\n",
      "Epoch 4/5\n",
      "75/75 [==============================] - 1s 14ms/step - loss: 0.0042 - acc: 0.9983 - val_loss: 9.5739e-04 - val_acc: 1.0000\n",
      "Epoch 5/5\n",
      "75/75 [==============================] - 1s 15ms/step - loss: 0.0063 - acc: 0.9992 - val_loss: 9.3753e-04 - val_acc: 1.0000\n"
     ]
    },
    {
     "data": {
      "text/plain": [
       "<keras.callbacks.History at 0x7fa67c8538d0>"
      ]
     },
     "execution_count": 29,
     "metadata": {},
     "output_type": "execute_result"
    }
   ],
   "source": [
    "model.fit_generator(train_generator,steps_per_epoch=len(train_generator),epochs=5,validation_data=test_generator,validation_steps=len(test_generator))"
   ]
  },
  {
   "cell_type": "code",
   "execution_count": 30,
   "metadata": {},
   "outputs": [],
   "source": [
    "# pip install h5py\n",
    "model.save('model_cnn.h5')"
   ]
  },
  {
   "cell_type": "markdown",
   "metadata": {},
   "source": [
    "# 测试"
   ]
  },
  {
   "cell_type": "code",
   "execution_count": 35,
   "metadata": {},
   "outputs": [
    {
     "data": {
      "image/png": "[encoded data removed]",
      "text/plain": [
       "<PIL.JpegImagePlugin.JpegImageFile image mode=RGB size=54x93 at 0x7FA67D229D68>"
      ]
     },
     "execution_count": 35,
     "metadata": {},
     "output_type": "execute_result"
    }
   ],
   "source": [
    "from keras.models import load_model\n",
    "import numpy as np\n",
    "\n",
    "label = np.array(['green','red', 'yellow'])\n",
    "# 载入模型\n",
    "model = load_model('model_cnn.h5')\n",
    "\n",
    "# 导入图片\n",
    "image = load_img('traffic_light_images/test/red/0ba83f83-a49c-4319-8ee2-547082ef7503.jpg')\n",
    "image"
   ]
  },
  {
   "cell_type": "code",
   "execution_count": 36,
   "metadata": {},
   "outputs": [
    {
     "data": {
      "text/plain": [
       "(1, 32, 32, 3)"
      ]
     },
     "execution_count": 36,
     "metadata": {},
     "output_type": "execute_result"
    }
   ],
   "source": [
    "image = image.resize((32,32))\n",
    "image = img_to_array(image)\n",
    "image = image/255\n",
    "image = np.expand_dims(image,0)\n",
    "image.shape"
   ]
  },
  {
   "cell_type": "code",
   "execution_count": 37,
   "metadata": {},
   "outputs": [
    {
     "name": "stdout",
     "output_type": "stream",
     "text": [
      "['red']\n"
     ]
    }
   ],
   "source": [
    "print(label[model.predict_classes(image)])"
   ]
  },
  {
   "cell_type": "code",
   "execution_count": 38,
   "metadata": {},
   "outputs": [
    {
     "name": "stdout",
     "output_type": "stream",
     "text": [
      "Number of misclassified images =  0  out of 297\n",
      "accuracy:  1.0\n"
     ]
    }
   ],
   "source": [
    "import glob\n",
    "import os\n",
    "image_dir = \"traffic_light_images/test\"\n",
    "image_types = [\"red\", \"yellow\", \"green\"]\n",
    "total = 0\n",
    "miss = 0\n",
    "for im_type in image_types:\n",
    "    for file in glob.glob(os.path.join(image_dir, im_type, \"*\")):\n",
    "        total += 1\n",
    "        image = load_img(file)\n",
    "        image = image.resize((32,32))\n",
    "        image = img_to_array(image)\n",
    "        image = image/255\n",
    "        image = np.expand_dims(image,0)\n",
    "        predicted_label = label[model.predict_classes(image)]\n",
    "        if predicted_label[0] != im_type:\n",
    "            print(\"ture label: \",im_type, \"  predicted label: \", predicted_label[0])\n",
    "            miss += 1\n",
    "print(\"Number of misclassified images = \", miss,  ' out of '+ str(total))\n",
    "print(\"accuracy: \", 1-miss/total)"
   ]
  },
  {
   "cell_type": "code",
   "execution_count": null,
   "metadata": {},
   "outputs": [],
   "source": []
  },
  {
   "cell_type": "code",
   "execution_count": null,
   "metadata": {},
   "outputs": [],
   "source": []
  }
 ],
 "metadata": {
  "anaconda-cloud": {},
  "kernelspec": {
   "display_name": "Python [conda env:tf13]",
   "language": "python",
   "name": "conda-env-tf13-py"
  },
  "language_info": {
   "codemirror_mode": {
    "name": "ipython",
    "version": 3
   },
   "file_extension": ".py",
   "mimetype": "text/x-python",
   "name": "python",
   "nbconvert_exporter": "python",
   "pygments_lexer": "ipython3",
   "version": "3.7.3"
  }
 },
 "nbformat": 4,
 "nbformat_minor": 1
}
