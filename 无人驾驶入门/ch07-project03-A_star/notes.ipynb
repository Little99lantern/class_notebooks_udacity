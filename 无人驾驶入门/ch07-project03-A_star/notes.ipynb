{
 "cells": [
  {
   "cell_type": "markdown",
   "metadata": {},
   "source": [
    "[堪称最好最全的A*算法详解（译文）](https://blog.csdn.net/denghecsdn/article/details/78778769)\n",
    "- Dijkstra\n",
    "- BFS\n",
    "- A*\n",
    "\n",
    "[A*算法（附c源码）](https://www.cnblogs.com/mingbujian/p/4915546.html)\n",
    "\n",
    "[八数码问题-A*(AStar)算法实现](https://blog.csdn.net/lishang6257/article/details/79732420)\n",
    "\n",
    "[8数码问题（及其扩展研究，NxN数码问题，界面+算法）](https://bbs.csdn.net/topics/350227812)"
   ]
  },
  {
   "cell_type": "markdown",
   "metadata": {},
   "source": [
    "- AttributeError: 'DiGraph' object has no attribute '_node'\n",
    "  - error:https://stackoverflow.com/questions/48647975/attributeerror-digraph-object-has-no-attribute-node\n",
    "  - solution:https://stackoverflow.com/questions/49016596/networkx-digraph-attribute-error-self-succ/49016885#49016885"
   ]
  },
  {
   "cell_type": "markdown",
   "metadata": {},
   "source": [
    "- networkx模块版本\n",
    "  - conda install networkx=1"
   ]
  },
  {
   "cell_type": "markdown",
   "metadata": {},
   "source": [
    "## def shortest_path(M, start, goal):\n",
    "## return path"
   ]
  },
  {
   "cell_type": "code",
   "execution_count": 54,
   "metadata": {},
   "outputs": [
    {
     "name": "stdout",
     "output_type": "stream",
     "text": [
      "5\n",
      "[5, 14]\n"
     ]
    }
   ],
   "source": [
    "from helpers import Map, load_map, show_map\n",
    "import math\n",
    "\n",
    "# 计算直线距离（欧式距离），同时用作启发式函数\n",
    "def get_distance(M, a, b):\n",
    "    return math.sqrt(M.intersections[a][0]**2 + M.intersections[b][0]**2)\n",
    "\n",
    "# 得到某点的frontier\n",
    "def get_frontier_from_father(father_node):\n",
    "    return [node for node in M.roads[father_node] if node not in processed]\n",
    "\n",
    "# 初始化参数\n",
    "M = load_map('map-40.pickle')\n",
    "start = 5\n",
    "goal = 34\n",
    "processed = []\n",
    "processed.append(start)\n",
    "\n",
    "g_n = {}  # start到某点的总距离\n",
    "g_n[start] = 0\n",
    "h_n = {}  # 某点到goal的预测距离(启发式函数)\n",
    "h_n[start] = get_distance(M, goal, start)\n",
    "\n",
    "# 初始化路径\n",
    "paths = []\n",
    "\n",
    "infinity = float(\"inf\")  # python中表示无穷大\n",
    "\n",
    "# 遍历 frontier ,选择下一个几点\n",
    "f_n = infinity\n",
    "pick_node = None\n",
    "for father_node in processed:\n",
    "    print(father_node)\n",
    "    for node in get_frontier_from_father(father_node):\n",
    "        g_n[node] = g_n[father_node] + get_distance(M, father_node, node)\n",
    "        h_n[node] = get_distance(M, goal, node)\n",
    "        if g_n[node] + h_n[node] <= f_n:\n",
    "            f_n = g_n[node] + h_n[node]\n",
    "            pick_node = node\n",
    "            \n",
    "# 选择该节点,更新processed \n",
    "processed.append(pick_node)\n",
    "print(processed)        "
   ]
  },
  {
   "cell_type": "code",
   "execution_count": 22,
   "metadata": {},
   "outputs": [
    {
     "name": "stdout",
     "output_type": "stream",
     "text": [
      "5 gn \t 0 hn \t 0.5910231364952575 g+h \t 0.5910231364952575\n",
      "32 gn \t 0.1966633451924715 hn \t 0.6094784893744308 g+h \t 0.8061418345669024\n",
      "16 gn \t 0.15812530211132553 hn \t 0.598156475209993 g+h \t 0.7562817773213186\n",
      "14 gn \t 0.101776946681228 hn \t 0.585786739815437 g+h \t 0.687563686496665\n"
     ]
    }
   ],
   "source": [
    "for i in g_n:\n",
    "    print(i, \"gn\", \"\\t\", g_n[i], \"hn\", \"\\t\", h_n[i], \"g+h\", \"\\t\", g_n[i]+h_n[i])\n"
   ]
  },
  {
   "cell_type": "code",
   "execution_count": 55,
   "metadata": {},
   "outputs": [],
   "source": [
    "\n",
    "def getpath(start,goal):\n",
    "    f_n = infinity\n",
    "    choice = None\n",
    "    father = None\n",
    "    for father_node in processed:\n",
    "        print(father_node)\n",
    "        for node in get_frontier_from_father(father_node):\n",
    "            g_n[node] = g_n[father_node] + get_distance(M, father_node, node)\n",
    "            h_n[node] = get_distance(M, goal, node)\n",
    "            if g_n[node] + h_n[node] <= f_n:\n",
    "                f_n = g_n[node] + h_n[node]\n",
    "                choice = node\n",
    "                father = father_node\n",
    "                \n",
    "    processed.append(choice)\n",
    "    print(processed)\n",
    "    path.append((choice,father))"
   ]
  },
  {
   "cell_type": "code",
   "execution_count": 74,
   "metadata": {},
   "outputs": [
    {
     "name": "stdout",
     "output_type": "stream",
     "text": [
      "5\n",
      "[5, 14]\n",
      "5\n",
      "14\n",
      "[5, 14, 30]\n",
      "5\n",
      "14\n",
      "30\n",
      "[5, 14, 30, 16]\n",
      "5\n",
      "14\n",
      "30\n",
      "16\n",
      "[5, 14, 30, 16, 32]\n",
      "5\n",
      "14\n",
      "30\n",
      "16\n",
      "32\n",
      "[5, 14, 30, 16, 32, 33]\n",
      "5\n",
      "14\n",
      "30\n",
      "16\n",
      "32\n",
      "33\n",
      "[5, 14, 30, 16, 32, 33, 8]\n",
      "5\n",
      "14\n",
      "30\n",
      "16\n",
      "32\n",
      "33\n",
      "8\n",
      "[5, 14, 30, 16, 32, 33, 8, 38]\n",
      "5\n",
      "14\n",
      "30\n",
      "16\n",
      "32\n",
      "33\n",
      "8\n",
      "38\n",
      "[5, 14, 30, 16, 32, 33, 8, 38, 23]\n",
      "5\n",
      "14\n",
      "30\n",
      "16\n",
      "32\n",
      "33\n",
      "8\n",
      "38\n",
      "23\n",
      "[5, 14, 30, 16, 32, 33, 8, 38, 23, 29]\n",
      "5\n",
      "14\n",
      "30\n",
      "16\n",
      "32\n",
      "33\n",
      "8\n",
      "38\n",
      "23\n",
      "29\n",
      "[5, 14, 30, 16, 32, 33, 8, 38, 23, 29, 37]\n",
      "5\n",
      "14\n",
      "30\n",
      "16\n",
      "32\n",
      "33\n",
      "8\n",
      "38\n",
      "23\n",
      "29\n",
      "37\n",
      "[5, 14, 30, 16, 32, 33, 8, 38, 23, 29, 37, 22]\n",
      "5\n",
      "14\n",
      "30\n",
      "16\n",
      "32\n",
      "33\n",
      "8\n",
      "38\n",
      "23\n",
      "29\n",
      "37\n",
      "22\n",
      "[5, 14, 30, 16, 32, 33, 8, 38, 23, 29, 37, 22, 12]\n",
      "5\n",
      "14\n",
      "30\n",
      "16\n",
      "32\n",
      "33\n",
      "8\n",
      "38\n",
      "23\n",
      "29\n",
      "37\n",
      "22\n",
      "12\n",
      "[5, 14, 30, 16, 32, 33, 8, 38, 23, 29, 37, 22, 12, 39]\n",
      "5\n",
      "14\n",
      "30\n",
      "16\n",
      "32\n",
      "33\n",
      "8\n",
      "38\n",
      "23\n",
      "29\n",
      "37\n",
      "22\n",
      "12\n",
      "39\n",
      "[5, 14, 30, 16, 32, 33, 8, 38, 23, 29, 37, 22, 12, 39, 7]\n",
      "5\n",
      "14\n",
      "30\n",
      "16\n",
      "32\n",
      "33\n",
      "8\n",
      "38\n",
      "23\n",
      "29\n",
      "37\n",
      "22\n",
      "12\n",
      "39\n",
      "7\n",
      "[5, 14, 30, 16, 32, 33, 8, 38, 23, 29, 37, 22, 12, 39, 7, 34]\n"
     ]
    }
   ],
   "source": [
    "path = []\n",
    "processed = []\n",
    "processed.append(start)\n",
    "while goal not in processed:\n",
    "    getpath(5,34)"
   ]
  },
  {
   "cell_type": "code",
   "execution_count": 75,
   "metadata": {},
   "outputs": [
    {
     "name": "stdout",
     "output_type": "stream",
     "text": [
      "[(14, 5), (30, 14), (16, 5), (32, 5), (33, 14), (8, 14), (38, 32), (23, 32), (29, 32), (37, 16), (22, 29), (12, 37), (39, 22), (7, 22), (34, 12)]\n"
     ]
    }
   ],
   "source": [
    "print(path)"
   ]
  },
  {
   "cell_type": "code",
   "execution_count": 76,
   "metadata": {},
   "outputs": [
    {
     "name": "stdout",
     "output_type": "stream",
     "text": [
      "[5, 16, 37, 12, 34]\n"
     ]
    }
   ],
   "source": [
    "list_node = [goal]\n",
    "last = path.pop()\n",
    "if last[0] == goal:\n",
    "    list_node.insert(0,last[1])\n",
    "    from_node = last[1]\n",
    "while len(path) != 0:\n",
    "    last = path.pop()\n",
    "    if last[0] == from_node:\n",
    "        list_node.insert(0,last[1])\n",
    "        from_node = last[1]\n",
    "print(list_node)"
   ]
  },
  {
   "cell_type": "code",
   "execution_count": null,
   "metadata": {},
   "outputs": [],
   "source": []
  },
  {
   "cell_type": "code",
   "execution_count": null,
   "metadata": {},
   "outputs": [],
   "source": []
  },
  {
   "cell_type": "code",
   "execution_count": 46,
   "metadata": {},
   "outputs": [],
   "source": [
    "\"\"\"\n",
    "版本1\n",
    "发现问题1, processed = []等参数在第二次运行时没有初始化\n",
    "\"\"\"\n",
    "\n",
    "from helpers import Map, load_map, show_map\n",
    "import math\n",
    "\n",
    "\n",
    "# 计算直线距离（欧式距离），同时用作启发式函数\n",
    "def get_distance(M, a, b):\n",
    "    return math.sqrt(M.intersections[a][0]**2 + M.intersections[b][0]**2)\n",
    "\n",
    "# 得到某点的frontier\n",
    "def get_frontier_from_father(M, father_node):\n",
    "    return [node for node in M.roads[father_node] if node not in processed]\n",
    "\n",
    "# 初始化参数\n",
    "# M = load_map('map-40.pickle')\n",
    "# start = 5\n",
    "# goal = 34\n",
    "processed = []\n",
    "\n",
    "g_n = {}  # start到某点的总距离\n",
    "h_n = {}  # 某点到goal的预测距离(启发式函数)\n",
    "\n",
    "infinity = float(\"inf\")  # python中表示无穷大\n",
    "\n",
    "\n",
    "def shortest_path(M, start, goal):\n",
    "    \n",
    "    # 初始化路径点,元素为 (节点,父节点)\n",
    "    path_nodes = []\n",
    "    # 初始化路径, 添加目标节点\n",
    "    shortest = [goal]\n",
    "    if start == goal:\n",
    "        return shortest\n",
    "    # 添加初始节点\n",
    "    processed.append(start)\n",
    "    g_n[start] = 0\n",
    "    h_n[start] = get_distance(M, goal, start)\n",
    "    \n",
    "    while goal not in processed:\n",
    "        f_n = infinity\n",
    "        choice = None\n",
    "        father = None\n",
    "        for father_node in processed:\n",
    "#             print(father_node)\n",
    "            for node in get_frontier_from_father(M,father_node):\n",
    "                g_n[node] = g_n[father_node] + get_distance(M, father_node, node)\n",
    "                h_n[node] = get_distance(M, goal, node)\n",
    "                if g_n[node] + h_n[node] <= f_n:\n",
    "                    f_n = g_n[node] + h_n[node]\n",
    "                    choice = node\n",
    "                    father = father_node\n",
    "\n",
    "        processed.append(choice)\n",
    "#         print(processed)\n",
    "        path_nodes.append((choice,father))\n",
    "    \n",
    "    print(path_nodes)\n",
    "    for i in reversed(path_nodes):\n",
    "        if i[0] == shortest[0]:\n",
    "            shortest.insert(0, i[1])\n",
    "#     print(shortest)\n",
    "    return shortest"
   ]
  },
  {
   "cell_type": "code",
   "execution_count": 47,
   "metadata": {},
   "outputs": [
    {
     "name": "stdout",
     "output_type": "stream",
     "text": [
      "[(14, 5), (30, 14), (16, 5), (32, 5), (33, 14), (8, 14), (38, 32), (23, 32), (29, 32), (37, 16), (22, 29), (12, 37), (39, 22), (7, 22), (34, 12)]\n"
     ]
    },
    {
     "data": {
      "text/plain": [
       "[5, 16, 37, 12, 34]"
      ]
     },
     "execution_count": 47,
     "metadata": {},
     "output_type": "execute_result"
    }
   ],
   "source": [
    "M = load_map('map-40.pickle')\n",
    "start = 5\n",
    "goal = 34\n",
    "shortest_path(M, start, goal)"
   ]
  },
  {
   "cell_type": "code",
   "execution_count": 48,
   "metadata": {},
   "outputs": [
    {
     "name": "stdout",
     "output_type": "stream",
     "text": [
      "[]\n",
      "For start: 5 Goal:      34 Your path: [34] Correct:   [5, 16, 37, 12, 34]\n",
      "[(17, 12), (31, 12), (28, 12), (4, 39), (36, 39), (2, 39), (26, 34), (25, 34), (0, 34), (21, 7), (15, 17), (9, 7), (19, 7), (1, 17), (18, 17), (10, 17), (27, 31), (20, 26), (11, 15), (3, 15), (35, 15), (6, 15), (13, 18), (24, 18)]\n",
      "For start: 8 Goal:      24 Your path: [12, 17, 18, 24] Correct:   [8, 14, 16, 37, 12, 17, 10, 24]\n",
      "You passed 1 / 3 test cases\n"
     ]
    }
   ],
   "source": [
    "from test import test\n",
    "test(shortest_path)"
   ]
  },
  {
   "cell_type": "code",
   "execution_count": 45,
   "metadata": {},
   "outputs": [
    {
     "name": "stdout",
     "output_type": "stream",
     "text": [
      "[(30, 8), (14, 8), (33, 8), (16, 30), (5, 14), (32, 5), (37, 16), (38, 32), (23, 32), (29, 32), (22, 37), (12, 37), (39, 22), (7, 22), (34, 12), (17, 12), (31, 12), (28, 12), (4, 39), (36, 39), (2, 39), (26, 34), (25, 34), (0, 34), (21, 7), (15, 17), (9, 7), (19, 7), (1, 17), (18, 17), (10, 17), (27, 31), (20, 26), (11, 15), (3, 15), (35, 15), (6, 15), (13, 18), (24, 18)]\n"
     ]
    },
    {
     "data": {
      "text/plain": [
       "[8, 30, 16, 37, 12, 17, 18, 24]"
      ]
     },
     "execution_count": 45,
     "metadata": {},
     "output_type": "execute_result"
    }
   ],
   "source": [
    "M = load_map('map-40.pickle')\n",
    "start = 8\n",
    "goal = 24\n",
    "shortest_path(M, start, goal)"
   ]
  },
  {
   "cell_type": "code",
   "execution_count": 54,
   "metadata": {},
   "outputs": [],
   "source": [
    "\"\"\"\n",
    "版本2\n",
    "问题1, processed = []等参数在第二次运行时没有初始化\n",
    "解决方案:将参数初始化放入函数shortest_path中,调用其它函数时传参\n",
    "\n",
    "问题2:没有得到最有路径,问题预计有g_n引发\n",
    "\n",
    "\"\"\"\n",
    "\n",
    "from helpers import Map, load_map, show_map\n",
    "import math\n",
    "\n",
    "\n",
    "# 计算直线距离（欧式距离），同时用作启发式函数\n",
    "def get_distance(M, a, b):\n",
    "    return math.sqrt((M.intersections[a][0]-M.intersections[b][0])**2 + (M.intersections[a][1]-M.intersections[b][1])**2)\n",
    "\n",
    "# 得到某点的frontier\n",
    "def get_frontier_from_father(M, father_node, processed):\n",
    "    return [node for node in M.roads[father_node] if node not in processed]\n",
    "\n",
    "\n",
    "infinity = float(\"inf\")  # python中表示无穷大\n",
    "\n",
    "\n",
    "def shortest_path(M, start, goal):\n",
    "    # 初始化参数\n",
    "    processed = []\n",
    "    g_n = {}  # start到某点的总距离\n",
    "    h_n = {}  # 某点到goal的预测距离(启发式函数)\n",
    "\n",
    "    # 初始化路径点,元素为 (节点,父节点)\n",
    "    path_nodes = []\n",
    "    # 初始化路径, 添加目标节点\n",
    "    shortest = [goal]\n",
    "    if start == goal:\n",
    "        return shortest\n",
    "    # 添加初始节点\n",
    "    processed.append(start)\n",
    "    g_n[start] = 0\n",
    "    h_n[start] = get_distance(M, goal, start)\n",
    "    \n",
    "    while goal not in processed:\n",
    "        f_n = infinity\n",
    "        choice = None\n",
    "        father = None\n",
    "        for father_node in processed:\n",
    "#             print(father_node)\n",
    "            for node in get_frontier_from_father(M,father_node, processed):\n",
    "                g_n[node] = g_n[father_node] + get_distance(M, father_node, node)\n",
    "                h_n[node] = get_distance(M, goal, node)\n",
    "                if g_n[node] + h_n[node] <= f_n:\n",
    "                    f_n = g_n[node] + h_n[node]\n",
    "                    choice = node\n",
    "                    father = father_node\n",
    "\n",
    "        processed.append(choice)\n",
    "#         print(processed)\n",
    "        path_nodes.append((choice,father))\n",
    "    \n",
    "    # print(path_nodes)\n",
    "    for i in reversed(path_nodes):\n",
    "        if i[0] == shortest[0]:\n",
    "            shortest.insert(0, i[1])\n",
    "#     print(shortest)\n",
    "    return shortest"
   ]
  },
  {
   "cell_type": "code",
   "execution_count": 55,
   "metadata": {},
   "outputs": [
    {
     "data": {
      "text/plain": [
       "[8, 30, 16, 37, 12, 17, 10, 24]"
      ]
     },
     "execution_count": 55,
     "metadata": {},
     "output_type": "execute_result"
    }
   ],
   "source": [
    "M = load_map('map-40.pickle')\n",
    "start = 8\n",
    "goal = 24\n",
    "shortest_path(M, start, goal)"
   ]
  },
  {
   "cell_type": "code",
   "execution_count": 56,
   "metadata": {},
   "outputs": [
    {
     "name": "stdout",
     "output_type": "stream",
     "text": [
      "For start: 8 Goal:      24 Your path: [8, 30, 16, 37, 12, 17, 10, 24] Correct:   [8, 14, 16, 37, 12, 17, 10, 24]\n",
      "You passed 2 / 3 test cases\n"
     ]
    }
   ],
   "source": [
    "from test import test\n",
    "\n",
    "test(shortest_path)"
   ]
  },
  {
   "cell_type": "code",
   "execution_count": 52,
   "metadata": {},
   "outputs": [
    {
     "name": "stdout",
     "output_type": "stream",
     "text": [
      "my answer \n",
      "8-30    0.18317798749706926 \n",
      " 30-16   0.24809518585118143 \n",
      " 8-30-16 0.43127317334825066 \n",
      "\n",
      "test answer \n",
      "8-14    0.220752785727394 \n",
      " 14-16   0.13137085273414137 \n",
      " 8-14-16 0.3521236384615354 \n",
      "\n"
     ]
    }
   ],
   "source": [
    "print(\n",
    "    \"my answer \\n\"\n",
    "    \"8-30   \", get_distance(M,8,30), \"\\n\",\n",
    "    \"30-16  \", get_distance(M,30,16), \"\\n\",\n",
    "    \"8-30-16\", get_distance(M,8,30)+get_distance(M,30,16), \"\\n\",\n",
    ")\n",
    "print(\n",
    "    \"test answer \\n\"\n",
    "    \"8-14   \", get_distance(M,8,14), \"\\n\",\n",
    "    \"14-16  \", get_distance(M,14,16), \"\\n\",\n",
    "    \"8-14-16\", get_distance(M,8,14)+get_distance(M,14,16), \"\\n\",\n",
    ")"
   ]
  },
  {
   "cell_type": "code",
   "execution_count": 53,
   "metadata": {},
   "outputs": [
    {
     "name": "stdout",
     "output_type": "stream",
     "text": [
      "my answer \n",
      "17-18    0.249013785769723 \n",
      " 18-24    0.21701563814459818 \n",
      " 17-18-24 0.4660294239143212 \n",
      "\n",
      "test answer \n",
      "17-10    0.19375260907619782 \n",
      " 10-24    0.20943435185542836 \n",
      " 17-10-24 0.7983902104281706 \n",
      "\n"
     ]
    }
   ],
   "source": [
    "print(\n",
    "    \"my answer \\n\"\n",
    "    \"17-18   \", get_distance(M,17,18), \"\\n\",\n",
    "    \"18-24   \", get_distance(M,18,24), \"\\n\",\n",
    "    \"17-18-24\", get_distance(M,17,18)+get_distance(M,18,24), \"\\n\",\n",
    ")\n",
    "print(\n",
    "    \"test answer \\n\"\n",
    "    \"17-10   \", get_distance(M,17,10), \"\\n\",\n",
    "    \"10-24   \", get_distance(M,10,24), \"\\n\",\n",
    "    \"17-10-24\", get_distance(M,8,10)+get_distance(M,10,24), \"\\n\",\n",
    ")"
   ]
  },
  {
   "cell_type": "code",
   "execution_count": null,
   "metadata": {},
   "outputs": [],
   "source": []
  },
  {
   "cell_type": "code",
   "execution_count": 129,
   "metadata": {},
   "outputs": [],
   "source": [
    "\"\"\"\n",
    "版本3\n",
    "问题1: processed = []等参数在第二次运行时没有初始化\n",
    "解决方案: 将参数初始化放入函数shortest_path中,调用其它函数时传参\n",
    "\n",
    "问题2: 没有得到最有路径,问题预计为g_n引发\n",
    "解决方案: 修改得到temp_add最小的节点choice和他的父节点father的逻辑\n",
    "\"\"\"\n",
    "\n",
    "from helpers import Map, load_map, show_map\n",
    "import math\n",
    "\n",
    "\n",
    "# 计算直线距离（欧式距离），同时用作启发式函数\n",
    "def get_distance(M, a, b):\n",
    "    return math.sqrt((M.intersections[a][0]-M.intersections[b][0])**2 + (M.intersections[a][1]-M.intersections[b][1])**2)\n",
    "\n",
    "# 得到某点的frontier\n",
    "def get_frontier_from_father(M, father_node, processed):\n",
    "    return [node for node in M.roads[father_node] if node not in processed]\n",
    "\n",
    "\n",
    "infinity = float(\"inf\")  # python中表示无穷大\n",
    "\n",
    "\n",
    "def shortest_path(M, start, goal):\n",
    "    # 初始化参数\n",
    "    processed = []\n",
    "    g_n = {}  # start到某点的总距离\n",
    "    h_n = {}  # 某点到goal的预测距离(启发式函数)\n",
    "\n",
    "    # 初始化路径点,元素为 (节点,父节点)\n",
    "    path_nodes = []\n",
    "    \n",
    "    # 初始化路径, 添加目标节点\n",
    "    shortest = [goal]\n",
    "    if start == goal:\n",
    "        return shortest\n",
    "    \n",
    "    # 添加初始节点\n",
    "    processed.append(start)\n",
    "    g_n[start] = 0\n",
    "    \n",
    "    while goal not in processed:\n",
    "        choice = None\n",
    "        father = None\n",
    "        temp_g = infinity\n",
    "        temp_h = infinity\n",
    "        temp_add = infinity\n",
    "        choice = None\n",
    "        father = None\n",
    "        \n",
    "        # 得到temp_add最小的节点choice和他的父节点father\n",
    "        for father_node in processed:\n",
    "#             print(father_node)\n",
    "            for node in get_frontier_from_father(M,father_node, processed):\n",
    "#                 g_n[node] = g_n[father_node] + get_distance(M, father_node, node)  # 修改\n",
    "                temp_h = get_distance(M, goal, node)\n",
    "                if temp_g > g_n[father_node] + get_distance(M, father_node, node) and g_n[father_node] + get_distance(M, father_node, node) + temp_h <= temp_add:\n",
    "                    temp_g = g_n[father_node] + get_distance(M, father_node, node)\n",
    "                    temp_add = temp_g + temp_h\n",
    "                    choice = node\n",
    "                    father = father_node\n",
    "                    \n",
    "        # 更新g_n\n",
    "        g_n[choice] = g_n[father] + get_distance(M, father, choice)\n",
    "        \n",
    "        processed.append(choice)\n",
    "#         print(processed)\n",
    "        path_nodes.append((choice,father))\n",
    "    \n",
    "#     print(path_nodes)\n",
    "    for i in reversed(path_nodes):\n",
    "        if i[0] == shortest[0]:\n",
    "            shortest.insert(0, i[1])\n",
    "#     print(shortest)\n",
    "    return shortest"
   ]
  },
  {
   "cell_type": "code",
   "execution_count": 130,
   "metadata": {},
   "outputs": [
    {
     "data": {
      "text/plain": [
       "[8, 14, 16, 37, 12, 17, 10, 24]"
      ]
     },
     "execution_count": 130,
     "metadata": {},
     "output_type": "execute_result"
    }
   ],
   "source": [
    "M = load_map('map-40.pickle')\n",
    "start = 8\n",
    "goal = 24\n",
    "shortest_path(M, start, goal)"
   ]
  },
  {
   "cell_type": "code",
   "execution_count": 131,
   "metadata": {},
   "outputs": [
    {
     "name": "stdout",
     "output_type": "stream",
     "text": [
      "All tests pass! Congratulations!\n"
     ]
    }
   ],
   "source": [
    "from test import test\n",
    "\n",
    "test(shortest_path)"
   ]
  },
  {
   "cell_type": "code",
   "execution_count": null,
   "metadata": {},
   "outputs": [],
   "source": []
  },
  {
   "cell_type": "code",
   "execution_count": 4,
   "metadata": {},
   "outputs": [],
   "source": [
    "\n",
    "dic01 = {1:{2,3,4}, 2:{5,6,7}}"
   ]
  },
  {
   "cell_type": "code",
   "execution_count": 5,
   "metadata": {},
   "outputs": [
    {
     "data": {
      "text/plain": [
       "{2, 3, 4}"
      ]
     },
     "execution_count": 5,
     "metadata": {},
     "output_type": "execute_result"
    }
   ],
   "source": [
    "dic01[1]"
   ]
  },
  {
   "cell_type": "code",
   "execution_count": 6,
   "metadata": {},
   "outputs": [
    {
     "data": {
      "text/plain": [
       "set"
      ]
     },
     "execution_count": 6,
     "metadata": {},
     "output_type": "execute_result"
    }
   ],
   "source": [
    "type(dic01[1])"
   ]
  },
  {
   "cell_type": "code",
   "execution_count": 7,
   "metadata": {},
   "outputs": [
    {
     "data": {
      "text/plain": [
       "{1: {3, 4}, 2: {5, 6, 7}}"
      ]
     },
     "execution_count": 7,
     "metadata": {},
     "output_type": "execute_result"
    }
   ],
   "source": [
    "dic01[1].remove(2)\n",
    "dic01"
   ]
  },
  {
   "cell_type": "code",
   "execution_count": null,
   "metadata": {},
   "outputs": [],
   "source": []
  }
 ],
 "metadata": {
  "kernelspec": {
   "display_name": "Python [conda env:.conda-py3] *",
   "language": "python",
   "name": "conda-env-.conda-py3-py"
  },
  "language_info": {
   "codemirror_mode": {
    "name": "ipython",
    "version": 3
   },
   "file_extension": ".py",
   "mimetype": "text/x-python",
   "name": "python",
   "nbconvert_exporter": "python",
   "pygments_lexer": "ipython3",
   "version": "3.7.3"
  }
 },
 "nbformat": 4,
 "nbformat_minor": 2
}
